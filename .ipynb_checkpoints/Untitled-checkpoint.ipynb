{
 "cells": [
  {
   "cell_type": "code",
   "execution_count": 2,
   "id": "ecb4dc10-7714-46d8-bd96-13f7500874d9",
   "metadata": {},
   "outputs": [],
   "source": [
    "import numpy as np\n",
    "import matplotlib.pyplot as plt\n",
    "from tensorflow.keras.applications import VGG19\n",
    "from tensorflow.keras.models import Model\n",
    "from tensorflow.keras.preprocessing import image\n",
    "from tensorflow.keras.applications.vgg19 import preprocess_input"
   ]
  },
  {
   "cell_type": "code",
   "execution_count": 3,
   "id": "8699f336-c028-47a4-a17b-63bc7899480e",
   "metadata": {},
   "outputs": [],
   "source": [
    "# Load VGG19 model with pre-trained ImageNet weights\n",
    "base_model = VGG19(weights='imagenet', include_top=False)\n",
    "\n",
    "# Choose layers from which to extract style features\n",
    "style_layer_names = [\n",
    "    'block1_conv1', 'block2_conv1', 'block3_conv1', \n",
    "    'block4_conv1', 'block5_conv1'\n",
    "]\n",
    "\n",
    "# Create model that outputs the layers we're interested in\n",
    "outputs = [base_model.get_layer(name).output for name in style_layer_names]\n",
    "model = Model(inputs=base_model.input, outputs=outputs)"
   ]
  },
  {
   "cell_type": "code",
   "execution_count": 4,
   "id": "4d089e37-f098-4323-9440-60c08f839838",
   "metadata": {},
   "outputs": [],
   "source": [
    "\n",
    "# Load and preprocess the input image\n",
    "img_path = 'image.jpg'  # Replace with your image path\n",
    "img = image.load_img(img_path, target_size=(224, 224))\n",
    "img_data = image.img_to_array(img)\n",
    "img_data = np.expand_dims(img_data, axis=0)\n",
    "img_data = preprocess_input(img_data)"
   ]
  },
  {
   "cell_type": "code",
   "execution_count": 5,
   "id": "8466e959-defb-4011-a15e-b752d3ff0732",
   "metadata": {},
   "outputs": [
    {
     "name": "stdout",
     "output_type": "stream",
     "text": [
      "1/1 [==============================] - 0s 277ms/step\n"
     ]
    }
   ],
   "source": [
    "# Extract features from the style layers\n",
    "features = model.predict(img_data)\n",
    "\n",
    "# Function to compute Gram matrix\n",
    "def compute_gram_matrix(feature_map):\n",
    "    # Reshape to (h * w, c)\n",
    "    reshaped_map = np.reshape(feature_map, (-1, feature_map.shape[-1]))\n",
    "    gram_matrix = np.dot(reshaped_map.T, reshaped_map)  # (c, c)\n",
    "    return gram_matrix\n",
    "\n",
    "# Save Gram matrices as images (limit to 200)\n",
    "total_grams = 0\n",
    "max_grams = 200"
   ]
  },
  {
   "cell_type": "code",
   "execution_count": 6,
   "id": "d7b64628-2a68-46e1-bd72-180c3011f931",
   "metadata": {},
   "outputs": [],
   "source": [
    "import gc"
   ]
  },
  {
   "cell_type": "code",
   "execution_count": null,
   "id": "422addd1-34a5-4a4d-981d-5e6eef58d383",
   "metadata": {},
   "outputs": [
    {
     "name": "stdout",
     "output_type": "stream",
     "text": [
      "1/1 [==============================] - 0s 161ms/step\n"
     ]
    }
   ],
   "source": [
    "for layer_name, feature_map in zip(style_layer_names, model.predict(img_data)):\n",
    "    # Free up memory for the next layer\n",
    "    gc.collect()\n",
    "    \n",
    "    # Compute the Gram matrix for the feature map of the layer\n",
    "    gram_matrix = compute_gram_matrix(feature_map[0])\n",
    "    \n",
    "    # Normalize the Gram matrix for visualization\n",
    "    gram_matrix -= gram_matrix.mean()\n",
    "    gram_matrix /= (gram_matrix.std() + 1e-5)  # Avoid division by zero\n",
    "    gram_matrix = np.clip(gram_matrix, 0, 255).astype('uint8')\n",
    "    \n",
    "    # Downscale Gram matrix for visualization (optional: can remove if not necessary)\n",
    "    gram_matrix = gram_matrix[:min(200, gram_matrix.shape[0]), :min(200, gram_matrix.shape[1])]\n",
    "    \n",
    "    # Plot and save the Gram matrix as an image\n",
    "    plt.imshow(gram_matrix, cmap='viridis')\n",
    "    plt.axis('off')\n",
    "    plt.savefig(f'gram_{layer_name}.png', bbox_inches='tight')\n",
    "    plt.close()\n",
    "    \n",
    "    total_grams += 1\n",
    "    if total_grams >= max_grams:\n",
    "        break\n",
    "\n",
    "print(f\"Saved {total_grams} Gram matrices from selected layers.\")"
   ]
  },
  {
   "cell_type": "code",
   "execution_count": null,
   "id": "72142195-49e7-4437-a739-6e5a4d3669b7",
   "metadata": {},
   "outputs": [],
   "source": []
  }
 ],
 "metadata": {
  "kernelspec": {
   "display_name": "Python 3 (ipykernel)",
   "language": "python",
   "name": "python3"
  },
  "language_info": {
   "codemirror_mode": {
    "name": "ipython",
    "version": 3
   },
   "file_extension": ".py",
   "mimetype": "text/x-python",
   "name": "python",
   "nbconvert_exporter": "python",
   "pygments_lexer": "ipython3",
   "version": "3.10.13"
  }
 },
 "nbformat": 4,
 "nbformat_minor": 5
}
