{
 "cells": [
  {
   "cell_type": "code",
   "execution_count": 26,
   "id": "caf7bb6b-5c25-4947-b84d-9159102ea57c",
   "metadata": {},
   "outputs": [],
   "source": [
    "import numpy as np\n",
    "import tensorflow as tf\n",
    "from tensorflow.keras.applications import VGG19\n",
    "from tensorflow.keras.preprocessing import image as keras_image\n",
    "from tensorflow.keras import backend as K\n",
    "import matplotlib.pyplot as plt\n",
    "import os\n",
    "from tensorflow.keras.preprocessing.image import load_img, img_to_array"
   ]
  },
  {
   "cell_type": "code",
   "execution_count": 27,
   "id": "62021de8-388b-4596-ae88-04b88e17da6c",
   "metadata": {},
   "outputs": [],
   "source": [
    "# Load VGG19 model\n",
    "model = VGG19(weights='imagenet', include_top=False)"
   ]
  },
  {
   "cell_type": "code",
   "execution_count": 28,
   "id": "60d3be76-32ec-4e56-8822-019de6feb32b",
   "metadata": {},
   "outputs": [],
   "source": [
    "# Function to compute the Gram matrix\n",
    "def gram_matrix(tensor):\n",
    "    channels = int(tensor.shape[-1])\n",
    "    tensor = tf.reshape(tensor, (-1, channels))\n",
    "    gram = tf.matmul(tf.transpose(tensor), tensor)\n",
    "    return gram"
   ]
  },
  {
   "cell_type": "code",
   "execution_count": 29,
   "id": "04742fc0-0749-4bfe-93ef-4d6c7ef716f8",
   "metadata": {},
   "outputs": [],
   "source": [
    "# Function to preprocess and load an image\n",
    "# def load_and_preprocess_image(img_path):\n",
    "#     img = keras_image.load_img(img_path, target_size=(224, 224))\n",
    "#     img_array = keras_image.img_to_array(img)\n",
    "#     img_array = np.expand_dims(img_array, axis=0)\n",
    "#     img_array = tf.keras.applications.vgg19.preprocess_input(img_array)\n",
    "#     return img_array"
   ]
  },
  {
   "cell_type": "code",
   "execution_count": 30,
   "id": "0a5771da-0ba4-402e-bd71-0d74974404ff",
   "metadata": {},
   "outputs": [],
   "source": [
    "# Function to compute the Gram matrix\n",
    "def gram_matrix(tensor):\n",
    "    channels = int(tensor.shape[-1])\n",
    "    tensor = tf.reshape(tensor, (-1, channels))\n",
    "    gram = tf.matmul(tf.transpose(tensor), tensor)\n",
    "    return gram"
   ]
  },
  {
   "cell_type": "code",
   "execution_count": 31,
   "id": "7eca3108-e192-404f-b244-7781e0f3f4e2",
   "metadata": {},
   "outputs": [],
   "source": [
    "# Function to extract Gram matrices and save images\n",
    "def extract_and_save_gram_matrices(image_path, save_dir, max_images=200):\n",
    "    image = load_img(image_path, target_size=(224, 224))\n",
    "    image_array = img_to_array(image)\n",
    "    image_array = np.expand_dims(image_array, axis=0)\n",
    "    image_array = tf.keras.applications.vgg19.preprocess_input(image_array)\n",
    "\n",
    "    feature_maps = model(image_array)\n",
    "    \n",
    "    os.makedirs(save_dir, exist_ok=True)\n",
    "\n",
    "    count = 0\n",
    "    for i in range(feature_maps.shape[-1]):\n",
    "        feature_map = feature_maps[0, :, :, i:i + 1]\n",
    "        gram = gram_matrix(feature_map)\n",
    "\n",
    "        gram_image = tf.squeeze(gram).numpy()\n",
    "        gram_image -= gram_image.min()\n",
    "        gram_image /= gram_image.max()\n",
    "        gram_image = (gram_image * 255).astype(np.uint8)\n",
    "\n",
    "        # Save the Gram matrix using Matplotlib\n",
    "        plt.imsave(os.path.join(save_dir, f'gram_matrix_{count}.png'), gram_image, cmap='gray')\n",
    "        count += 1\n",
    "        \n",
    "        if count >= max_images:\n",
    "            break"
   ]
  },
  {
   "cell_type": "code",
   "execution_count": 32,
   "id": "dce2dcf2-28e3-4413-b02a-915a757b9507",
   "metadata": {},
   "outputs": [
    {
     "name": "stderr",
     "output_type": "stream",
     "text": [
      "C:\\Users\\av945\\AppData\\Local\\Temp\\ipykernel_5692\\1144138021.py:19: RuntimeWarning: invalid value encountered in scalar divide\n",
      "  gram_image /= gram_image.max()\n",
      "C:\\Users\\av945\\AppData\\Local\\Temp\\ipykernel_5692\\1144138021.py:20: RuntimeWarning: invalid value encountered in cast\n",
      "  gram_image = (gram_image * 255).astype(np.uint8)\n"
     ]
    },
    {
     "ename": "AttributeError",
     "evalue": "'tuple' object has no attribute 'shape'",
     "output_type": "error",
     "traceback": [
      "\u001b[1;31m---------------------------------------------------------------------------\u001b[0m",
      "\u001b[1;31mAttributeError\u001b[0m                            Traceback (most recent call last)",
      "Cell \u001b[1;32mIn[32], line 4\u001b[0m\n\u001b[0;32m      2\u001b[0m image_path \u001b[38;5;241m=\u001b[39m \u001b[38;5;124m'\u001b[39m\u001b[38;5;124mimage.jpg\u001b[39m\u001b[38;5;124m'\u001b[39m  \u001b[38;5;66;03m# Replace with your image path\u001b[39;00m\n\u001b[0;32m      3\u001b[0m save_dir \u001b[38;5;241m=\u001b[39m \u001b[38;5;124m'\u001b[39m\u001b[38;5;124mgram_matrices\u001b[39m\u001b[38;5;124m'\u001b[39m  \u001b[38;5;66;03m# Directory to save Gram matrices\u001b[39;00m\n\u001b[1;32m----> 4\u001b[0m \u001b[43mextract_and_save_gram_matrices\u001b[49m\u001b[43m(\u001b[49m\u001b[43mimage_path\u001b[49m\u001b[43m,\u001b[49m\u001b[43m \u001b[49m\u001b[43msave_dir\u001b[49m\u001b[43m)\u001b[49m\n",
      "Cell \u001b[1;32mIn[31], line 23\u001b[0m, in \u001b[0;36mextract_and_save_gram_matrices\u001b[1;34m(image_path, save_dir, max_images)\u001b[0m\n\u001b[0;32m     20\u001b[0m gram_image \u001b[38;5;241m=\u001b[39m (gram_image \u001b[38;5;241m*\u001b[39m \u001b[38;5;241m255\u001b[39m)\u001b[38;5;241m.\u001b[39mastype(np\u001b[38;5;241m.\u001b[39muint8)\n\u001b[0;32m     22\u001b[0m \u001b[38;5;66;03m# Save the Gram matrix using Matplotlib\u001b[39;00m\n\u001b[1;32m---> 23\u001b[0m \u001b[43mplt\u001b[49m\u001b[38;5;241;43m.\u001b[39;49m\u001b[43mimsave\u001b[49m\u001b[43m(\u001b[49m\u001b[43mos\u001b[49m\u001b[38;5;241;43m.\u001b[39;49m\u001b[43mpath\u001b[49m\u001b[38;5;241;43m.\u001b[39;49m\u001b[43mjoin\u001b[49m\u001b[43m(\u001b[49m\u001b[43msave_dir\u001b[49m\u001b[43m,\u001b[49m\u001b[43m \u001b[49m\u001b[38;5;124;43mf\u001b[39;49m\u001b[38;5;124;43m'\u001b[39;49m\u001b[38;5;124;43mgram_matrix_\u001b[39;49m\u001b[38;5;132;43;01m{\u001b[39;49;00m\u001b[43mcount\u001b[49m\u001b[38;5;132;43;01m}\u001b[39;49;00m\u001b[38;5;124;43m.png\u001b[39;49m\u001b[38;5;124;43m'\u001b[39;49m\u001b[43m)\u001b[49m\u001b[43m,\u001b[49m\u001b[43m \u001b[49m\u001b[43mgram_image\u001b[49m\u001b[43m,\u001b[49m\u001b[43m \u001b[49m\u001b[43mcmap\u001b[49m\u001b[38;5;241;43m=\u001b[39;49m\u001b[38;5;124;43m'\u001b[39;49m\u001b[38;5;124;43mgray\u001b[39;49m\u001b[38;5;124;43m'\u001b[39;49m\u001b[43m)\u001b[49m\n\u001b[0;32m     24\u001b[0m count \u001b[38;5;241m+\u001b[39m\u001b[38;5;241m=\u001b[39m \u001b[38;5;241m1\u001b[39m\n\u001b[0;32m     26\u001b[0m \u001b[38;5;28;01mif\u001b[39;00m count \u001b[38;5;241m>\u001b[39m\u001b[38;5;241m=\u001b[39m max_images:\n",
      "File \u001b[1;32m~\\anaconda3\\envs\\VGG\\lib\\site-packages\\matplotlib\\pyplot.py:2604\u001b[0m, in \u001b[0;36mimsave\u001b[1;34m(fname, arr, **kwargs)\u001b[0m\n\u001b[0;32m   2600\u001b[0m \u001b[38;5;129m@_copy_docstring_and_deprecators\u001b[39m(matplotlib\u001b[38;5;241m.\u001b[39mimage\u001b[38;5;241m.\u001b[39mimsave)\n\u001b[0;32m   2601\u001b[0m \u001b[38;5;28;01mdef\u001b[39;00m \u001b[38;5;21mimsave\u001b[39m(\n\u001b[0;32m   2602\u001b[0m     fname: \u001b[38;5;28mstr\u001b[39m \u001b[38;5;241m|\u001b[39m os\u001b[38;5;241m.\u001b[39mPathLike \u001b[38;5;241m|\u001b[39m BinaryIO, arr: ArrayLike, \u001b[38;5;241m*\u001b[39m\u001b[38;5;241m*\u001b[39mkwargs\n\u001b[0;32m   2603\u001b[0m ) \u001b[38;5;241m-\u001b[39m\u001b[38;5;241m>\u001b[39m \u001b[38;5;28;01mNone\u001b[39;00m:\n\u001b[1;32m-> 2604\u001b[0m     matplotlib\u001b[38;5;241m.\u001b[39mimage\u001b[38;5;241m.\u001b[39mimsave(fname, arr, \u001b[38;5;241m*\u001b[39m\u001b[38;5;241m*\u001b[39mkwargs)\n",
      "File \u001b[1;32m~\\anaconda3\\envs\\VGG\\lib\\site-packages\\matplotlib\\image.py:1642\u001b[0m, in \u001b[0;36mimsave\u001b[1;34m(fname, arr, vmin, vmax, cmap, format, origin, dpi, metadata, pil_kwargs)\u001b[0m\n\u001b[0;32m   1639\u001b[0m \u001b[38;5;28;01melse\u001b[39;00m:\n\u001b[0;32m   1640\u001b[0m     \u001b[38;5;66;03m# we modify this below, so make a copy (don't modify caller's dict)\u001b[39;00m\n\u001b[0;32m   1641\u001b[0m     pil_kwargs \u001b[38;5;241m=\u001b[39m pil_kwargs\u001b[38;5;241m.\u001b[39mcopy()\n\u001b[1;32m-> 1642\u001b[0m pil_shape \u001b[38;5;241m=\u001b[39m (\u001b[43mrgba\u001b[49m\u001b[38;5;241;43m.\u001b[39;49m\u001b[43mshape\u001b[49m[\u001b[38;5;241m1\u001b[39m], rgba\u001b[38;5;241m.\u001b[39mshape[\u001b[38;5;241m0\u001b[39m])\n\u001b[0;32m   1643\u001b[0m rgba \u001b[38;5;241m=\u001b[39m np\u001b[38;5;241m.\u001b[39mrequire(rgba, requirements\u001b[38;5;241m=\u001b[39m\u001b[38;5;124m'\u001b[39m\u001b[38;5;124mC\u001b[39m\u001b[38;5;124m'\u001b[39m)\n\u001b[0;32m   1644\u001b[0m image \u001b[38;5;241m=\u001b[39m PIL\u001b[38;5;241m.\u001b[39mImage\u001b[38;5;241m.\u001b[39mfrombuffer(\n\u001b[0;32m   1645\u001b[0m     \u001b[38;5;124m\"\u001b[39m\u001b[38;5;124mRGBA\u001b[39m\u001b[38;5;124m\"\u001b[39m, pil_shape, rgba, \u001b[38;5;124m\"\u001b[39m\u001b[38;5;124mraw\u001b[39m\u001b[38;5;124m\"\u001b[39m, \u001b[38;5;124m\"\u001b[39m\u001b[38;5;124mRGBA\u001b[39m\u001b[38;5;124m\"\u001b[39m, \u001b[38;5;241m0\u001b[39m, \u001b[38;5;241m1\u001b[39m)\n",
      "\u001b[1;31mAttributeError\u001b[0m: 'tuple' object has no attribute 'shape'"
     ]
    }
   ],
   "source": [
    "# Example usage\n",
    "image_path = 'image.jpg'  # Replace with your image path\n",
    "save_dir = 'gram_matrices'  # Directory to save Gram matrices\n",
    "extract_and_save_gram_matrices(image_path, save_dir)"
   ]
  },
  {
   "cell_type": "code",
   "execution_count": null,
   "id": "db746d8a-1398-4119-b242-53dda6f5c3ec",
   "metadata": {},
   "outputs": [],
   "source": []
  }
 ],
 "metadata": {
  "kernelspec": {
   "display_name": "Python 3 (ipykernel)",
   "language": "python",
   "name": "python3"
  },
  "language_info": {
   "codemirror_mode": {
    "name": "ipython",
    "version": 3
   },
   "file_extension": ".py",
   "mimetype": "text/x-python",
   "name": "python",
   "nbconvert_exporter": "python",
   "pygments_lexer": "ipython3",
   "version": "3.10.13"
  }
 },
 "nbformat": 4,
 "nbformat_minor": 5
}
